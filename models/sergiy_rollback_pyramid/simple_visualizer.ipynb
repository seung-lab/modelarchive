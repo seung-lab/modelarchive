{
 "cells": [
  {
   "cell_type": "code",
   "execution_count": 1,
   "metadata": {},
   "outputs": [
    {
     "name": "stderr",
     "output_type": "stream",
     "text": [
      "/usr/people/popovych/.local/lib/python3.5/site-packages/IPython/html.py:14: ShimWarning: The `IPython.html` package has been deprecated since IPython 4.0. You should import from `notebook` instead. `IPython.html.widgets` has moved to `ipywidgets`.\n",
      "  \"`IPython.html.widgets` has moved to `ipywidgets`.\", ShimWarning)\n"
     ]
    }
   ],
   "source": [
    "%matplotlib inline\n",
    "import matplotlib.pyplot as plt\n",
    "import time\n",
    "import numpy as np\n",
    "from six import iteritems\n",
    "import shelve\n",
    "from scipy.ndimage.measurements import label\n",
    "import h5py\n",
    "\n",
    "import PIL\n",
    "import os\n",
    "from IPython.display import Image, display\n",
    "from IPython.html.widgets import interact, fixed\n",
    "from IPython.html import widgets\n",
    "import matplotlib.mlab as mlab\n",
    "import matplotlib.pyplot as plt\n",
    "\n",
    "import h5py\n",
    "from skimage import feature\n",
    "import os\n",
    "from os.path import expanduser\n",
    "import time\n",
    "\n",
    "import torch\n",
    "\n",
    "from rollback_pyramid import RollbackPyramid\n",
    "from alignermodule import Aligner\n",
    "from stack_dataset import compile_dataset\n",
    "\n",
    "def visualize_residuals(res, figsize=(10,10), x_coords=None, y_coords=None, vec_grid=50):\n",
    "    assert res.shape[0] == res.shape[1]\n",
    "    plt.figure(figsize=figsize)\n",
    "    n = res.shape[0]\n",
    "    y, x = np.mgrid[0:n, 0:n]\n",
    "    \n",
    "    if x_coords is None:\n",
    "        x_coords = [0, res.shape[0]]\n",
    "    if y_coords is None:\n",
    "        y_coords = [0, res.shape[1]]\n",
    "    \n",
    "    ex = (-1) * res[:, :, 0]\n",
    "    ey = res[:, :, 1]\n",
    "    r = np.arctan2(ex, ey)\n",
    "    \n",
    "    interval = (x_coords[1] - x_coords[0]) // vec_grid\n",
    "    \n",
    "    plt.quiver(  x[x_coords[0]:x_coords[1]:interval, y_coords[0]:y_coords[1]:interval],  \n",
    "                 y[x_coords[0]:x_coords[1]:interval, y_coords[0]:y_coords[1]:interval],\n",
    "                ex[x_coords[0]:x_coords[1]:interval, y_coords[0]:y_coords[1]:interval], \n",
    "                ey[x_coords[0]:x_coords[1]:interval, y_coords[0]:y_coords[1]:interval], \n",
    "                 r[x_coords[0]:x_coords[1]:interval, y_coords[0]:y_coords[1]:interval], alpha=0.6)\n",
    "    plt.quiver(x[x_coords[0]:x_coords[1]:interval, y_coords[0]:y_coords[1]:interval],  \n",
    "                 y[x_coords[0]:x_coords[1]:interval, y_coords[0]:y_coords[1]:interval],\n",
    "                ex[x_coords[0]:x_coords[1]:interval, y_coords[0]:y_coords[1]:interval], \n",
    "                ey[x_coords[0]:x_coords[1]:interval, y_coords[0]:y_coords[1]:interval], edgecolor='k', facecolor='None', linewidth=.5)\n",
    "    plt.gca().invert_yaxis()\n",
    "\n",
    "def display_image(img, x_coords=None, y_coords=None, normalize=False, figsize=(10, 10), mask=False):\n",
    "    if normalize and mask:\n",
    "        raise Exception(\"Masks can't be normalized\")\n",
    "    \n",
    "    plt.figure(figsize=figsize)\n",
    "    \n",
    "    if x_coords is None:\n",
    "        x_coords = [0, img.shape[0]]\n",
    "    if y_coords is None:\n",
    "        y_coords = [0, img.shape[1]]\n",
    "    \n",
    "    if mask:\n",
    "        plt.imshow(img[x_coords[0]:x_coords[1], y_coords[0]:y_coords[1]], cmap='gray', vmin=0, vmax=1.0)\n",
    "    elif not normalize:\n",
    "        plt.imshow(img[x_coords[0]:x_coords[1], y_coords[0]:y_coords[1]], cmap='gray', vmin=-0.5, vmax=0.5)\n",
    "    else:\n",
    "        plt.imshow(img[x_coords[0]:x_coords[1], y_coords[0]:y_coords[1]], cmap='gray')\n",
    "\n",
    "class simple_visualizer():\n",
    "    def __init__(self):\n",
    "        pass\n",
    "    \n",
    "    def display_multiimg(self, choice):\n",
    "        i = self.names.index(choice)\n",
    "        if isinstance(self.images[i], torch.Tensor):\n",
    "            self.images[i] = self.images[i].cpu().detach().numpy()\n",
    "        self.images[i] = self.images[i].squeeze()\n",
    "        \n",
    "        if self.crop == 0:\n",
    "            display_image(self.images[i], normalize=self.normalize, figsize=(12, 12))\n",
    "        else:\n",
    "            display_image(self.images[i][self.crop:-self.crop, self.crop:-self.crop], \n",
    "                          normalize=self.normalize, figsize=(12, 12))\n",
    "        \n",
    "    def visualize(self, images, names=None, crop=0, normalize=False):\n",
    "        if names is None:\n",
    "            names = range(len(images))\n",
    "        self.names = names\n",
    "        self.normalize = normalize\n",
    "        self.images = images\n",
    "        self.crop = crop\n",
    "        \n",
    "        button_choice = widgets.ToggleButtons(\n",
    "                options=names,\n",
    "                description='Image:',\n",
    "                disabled=False,\n",
    "                button_style='',\n",
    "            )\n",
    "\n",
    "        interact(self.display_multiimg, choice=button_choice)"
   ]
  },
  {
   "cell_type": "markdown",
   "metadata": {},
   "source": [
    "#  Dataset"
   ]
  },
  {
   "cell_type": "code",
   "execution_count": 3,
   "metadata": {},
   "outputs": [
    {
     "name": "stdout",
     "output_type": "stream",
     "text": [
      "plastic mask detected!\n"
     ]
    }
   ],
   "source": [
    "dataset = compile_dataset([{\"data\": {\"h5\": \"./datasets/minnie_full_mip8_1300px_train.h5\", \"mip\": 8}, \n",
    "                                            \"masks\": {\n",
    "                                                \"plastic\": {\"h5\": \"./datasets/plastic_mask_minnie_full_mip8_1300px_train.h5\", \"mip\": 8}\n",
    "                                            }}], supervised=False, max_size=500)"
   ]
  },
  {
   "cell_type": "markdown",
   "metadata": {},
   "source": [
    "### Compose Pyramid"
   ]
  },
  {
   "cell_type": "code",
   "execution_count": 4,
   "metadata": {},
   "outputs": [],
   "source": [
    "aligners = {}\n",
    "pyramid = RollbackPyramid()\n",
    "\n",
    "for m in [8, 9, 10]:\n",
    "    aligners[m] = Aligner(fms=[2, 16, 16, 16, 16, 2], k=7).cuda()\n",
    "    aligners[m].load_state_dict(torch.load('./checkpoints/barak_aligner_mip{}.pth.tar'.format(m)))\n",
    "    pyramid.set_mip_processor(aligners[m], m)\n",
    "    "
   ]
  },
  {
   "cell_type": "code",
   "execution_count": null,
   "metadata": {},
   "outputs": [],
   "source": [
    "#torch.save(model.mip_processors[8].state_dict(), \"./barak_aligner_mip8.pth.tar\")"
   ]
  },
  {
   "cell_type": "code",
   "execution_count": 7,
   "metadata": {},
   "outputs": [
    {
     "ename": "AttributeError",
     "evalue": "'numpy.ndarray' object has no attribute 'unsqueeze'",
     "output_type": "error",
     "traceback": [
      "\u001b[0;31m---------------------------------------------------------------------------\u001b[0m",
      "\u001b[0;31mAttributeError\u001b[0m                            Traceback (most recent call last)",
      "\u001b[0;32m<ipython-input-7-b9e7b87053c9>\u001b[0m in \u001b[0;36m<module>\u001b[0;34m\u001b[0m\n\u001b[1;32m      1\u001b[0m \u001b[0mi\u001b[0m \u001b[0;34m=\u001b[0m \u001b[0;36m0\u001b[0m\u001b[0;34m\u001b[0m\u001b[0m\n\u001b[0;32m----> 2\u001b[0;31m \u001b[0msample\u001b[0m \u001b[0;34m=\u001b[0m \u001b[0mtorch\u001b[0m\u001b[0;34m.\u001b[0m\u001b[0mFloatTensor\u001b[0m\u001b[0;34m(\u001b[0m\u001b[0mdataset\u001b[0m\u001b[0;34m[\u001b[0m\u001b[0mi\u001b[0m\u001b[0;34m]\u001b[0m\u001b[0;34m.\u001b[0m\u001b[0munsqueeze\u001b[0m\u001b[0;34m(\u001b[0m\u001b[0;36m0\u001b[0m\u001b[0;34m)\u001b[0m \u001b[0;34m*\u001b[0m \u001b[0;36m1\u001b[0m\u001b[0;34m)\u001b[0m\u001b[0;34m\u001b[0m\u001b[0m\n\u001b[0m\u001b[1;32m      3\u001b[0m \u001b[0msrc_tgt\u001b[0m \u001b[0;34m=\u001b[0m \u001b[0msample\u001b[0m\u001b[0;34m[\u001b[0m\u001b[0;34m:\u001b[0m\u001b[0;34m,\u001b[0m \u001b[0;36m0\u001b[0m\u001b[0;34m:\u001b[0m\u001b[0;36m2\u001b[0m\u001b[0;34m]\u001b[0m\u001b[0;34m\u001b[0m\u001b[0m\n\u001b[1;32m      4\u001b[0m \u001b[0mplastic_mask\u001b[0m \u001b[0;34m=\u001b[0m \u001b[0msample\u001b[0m\u001b[0;34m[\u001b[0m\u001b[0;34m:\u001b[0m\u001b[0;34m,\u001b[0m \u001b[0;36m8\u001b[0m\u001b[0;34m:\u001b[0m\u001b[0;36m10\u001b[0m\u001b[0;34m]\u001b[0m\u001b[0;34m\u001b[0m\u001b[0m\n\u001b[1;32m      5\u001b[0m \u001b[0msrc_var\u001b[0m\u001b[0;34m,\u001b[0m \u001b[0mtgt_var\u001b[0m\u001b[0;34m,\u001b[0m \u001b[0mpred_res\u001b[0m\u001b[0;34m,\u001b[0m \u001b[0mpred_tgt\u001b[0m \u001b[0;34m=\u001b[0m \u001b[0mpyramid\u001b[0m\u001b[0;34m.\u001b[0m\u001b[0mrun_pair\u001b[0m\u001b[0;34m(\u001b[0m\u001b[0msample\u001b[0m\u001b[0;34m,\u001b[0m \u001b[0mplastic_mask\u001b[0m\u001b[0;34m,\u001b[0m \u001b[0;36m8\u001b[0m\u001b[0;34m)\u001b[0m\u001b[0;34m\u001b[0m\u001b[0m\n",
      "\u001b[0;32m~/.local/lib/python3.5/site-packages/torch/utils/data/dataset.py\u001b[0m in \u001b[0;36m__getitem__\u001b[0;34m(self, idx)\u001b[0m\n\u001b[1;32m     79\u001b[0m         \u001b[0;32melse\u001b[0m\u001b[0;34m:\u001b[0m\u001b[0;34m\u001b[0m\u001b[0m\n\u001b[1;32m     80\u001b[0m             \u001b[0msample_idx\u001b[0m \u001b[0;34m=\u001b[0m \u001b[0midx\u001b[0m \u001b[0;34m-\u001b[0m \u001b[0mself\u001b[0m\u001b[0;34m.\u001b[0m\u001b[0mcumulative_sizes\u001b[0m\u001b[0;34m[\u001b[0m\u001b[0mdataset_idx\u001b[0m \u001b[0;34m-\u001b[0m \u001b[0;36m1\u001b[0m\u001b[0;34m]\u001b[0m\u001b[0;34m\u001b[0m\u001b[0m\n\u001b[0;32m---> 81\u001b[0;31m         \u001b[0;32mreturn\u001b[0m \u001b[0mself\u001b[0m\u001b[0;34m.\u001b[0m\u001b[0mdatasets\u001b[0m\u001b[0;34m[\u001b[0m\u001b[0mdataset_idx\u001b[0m\u001b[0;34m]\u001b[0m\u001b[0;34m[\u001b[0m\u001b[0msample_idx\u001b[0m\u001b[0;34m]\u001b[0m\u001b[0;34m\u001b[0m\u001b[0m\n\u001b[0m\u001b[1;32m     82\u001b[0m \u001b[0;34m\u001b[0m\u001b[0m\n\u001b[1;32m     83\u001b[0m     \u001b[0;34m@\u001b[0m\u001b[0mproperty\u001b[0m\u001b[0;34m\u001b[0m\u001b[0m\n",
      "\u001b[0;32m~/aligner/rollback_pyramid/stack_dataset.py\u001b[0m in \u001b[0;36m__getitem__\u001b[0;34m(self, i)\u001b[0m\n\u001b[1;32m    123\u001b[0m             \u001b[0mmasks\u001b[0m\u001b[0;34m.\u001b[0m\u001b[0mappend\u001b[0m\u001b[0;34m(\u001b[0m\u001b[0mtgt_mask\u001b[0m\u001b[0;34m)\u001b[0m\u001b[0;34m\u001b[0m\u001b[0m\n\u001b[1;32m    124\u001b[0m \u001b[0;34m\u001b[0m\u001b[0m\n\u001b[0;32m--> 125\u001b[0;31m         sample = torch.cat([src.unsqueeze(0),\n\u001b[0m\u001b[1;32m    126\u001b[0m                        tgt.unsqueeze(0), res.permute(2, 0, 1)] +\n\u001b[1;32m    127\u001b[0m                        [m.unsqueeze(0) for m in masks], 0)\n",
      "\u001b[0;31mAttributeError\u001b[0m: 'numpy.ndarray' object has no attribute 'unsqueeze'"
     ]
    }
   ],
   "source": [
    "i = 0\n",
    "sample = torch.FloatTensor(dataset[i].unsqueeze(0) * 1)\n",
    "src_tgt = sample[:, 0:2]\n",
    "plastic_mask = sample[:, 8:10]\n",
    "src_var, tgt_var, pred_res, pred_tgt = pyramid.run_pair(sample, plastic_mask, 8)\n",
    "\n"
   ]
  },
  {
   "cell_type": "code",
   "execution_count": null,
   "metadata": {},
   "outputs": [],
   "source": [
    "print (pred_tgt.shape)\n",
    "viz = [src_var[0], tgt_var[0], pred_tgt]\n",
    "simple_visualizer().visualize(viz, normalize=True)"
   ]
  }
 ],
 "metadata": {
  "kernelspec": {
   "display_name": "Python 3",
   "language": "python",
   "name": "python3"
  },
  "language_info": {
   "codemirror_mode": {
    "name": "ipython",
    "version": 3
   },
   "file_extension": ".py",
   "mimetype": "text/x-python",
   "name": "python",
   "nbconvert_exporter": "python",
   "pygments_lexer": "ipython3",
   "version": "3.5.2"
  }
 },
 "nbformat": 4,
 "nbformat_minor": 2
}
